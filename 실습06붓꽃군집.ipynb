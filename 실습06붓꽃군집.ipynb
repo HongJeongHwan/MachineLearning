{
  "nbformat": 4,
  "nbformat_minor": 0,
  "metadata": {
    "colab": {
      "provenance": [],
      "toc_visible": true,
      "mount_file_id": "1ctJLYoRGDZqgOVnkh2dyChZic2Jn85lU",
      "authorship_tag": "ABX9TyN8Gb+BM505AtjxRGZ7MMlv",
      "include_colab_link": true
    },
    "kernelspec": {
      "name": "python3",
      "display_name": "Python 3"
    },
    "language_info": {
      "name": "python"
    }
  },
  "cells": [
    {
      "cell_type": "markdown",
      "metadata": {
        "id": "view-in-github",
        "colab_type": "text"
      },
      "source": [
        "<a href=\"https://colab.research.google.com/github/HongJeongHwan/MachineLearning/blob/main/%EC%8B%A4%EC%8A%B506%EB%B6%93%EA%BD%83%EA%B5%B0%EC%A7%91.ipynb\" target=\"_parent\"><img src=\"https://colab.research.google.com/assets/colab-badge.svg\" alt=\"Open In Colab\"/></a>"
      ]
    },
    {
      "cell_type": "markdown",
      "source": [
        "#§ 붓꽃데이터를 이용한 군집"
      ],
      "metadata": {
        "id": "dO6mHxXm80BI"
      }
    },
    {
      "cell_type": "code",
      "source": [
        "'''\n",
        "- 군집화(클러스터링)\n",
        ": 평가를 할 수 없다.\n",
        "\n",
        "이상치 탐지의 영역도 있다.\n",
        ": 보안의 영역이 될 수 있다.\n",
        "\n",
        "군집화, 이상치 탐지등 : 마케팅이나 여론조사 등에는 비지도학습이 유용하다.\n",
        "\n",
        "더욱 다양한 모델이 있으니 관심이 있으면 찾아보면 된다.\n",
        "\n",
        "예측과 평가가 없기 때문에 간단하다.\n",
        "'''"
      ],
      "metadata": {
        "id": "sz3dCOthbFra",
        "colab": {
          "base_uri": "https://localhost:8080/",
          "height": 35
        },
        "outputId": "3bf7a17d-3d6e-4080-bb57-36f7cb88f197"
      },
      "execution_count": null,
      "outputs": [
        {
          "output_type": "execute_result",
          "data": {
            "text/plain": [
              "'\\n- 군집화(클러스터링)\\n: 평가를 할 수 없다.\\n\\n이상치 탐지의 영역도 있다.\\n: 보안의 영역이 될 수 있다.\\n'"
            ],
            "application/vnd.google.colaboratory.intrinsic+json": {
              "type": "string"
            }
          },
          "metadata": {},
          "execution_count": 1
        }
      ]
    },
    {
      "cell_type": "code",
      "source": [
        "# 필요한 라이브러리 임포트\n",
        "import numpy as np\n",
        "import pandas as pd\n",
        "import seaborn as sns\n",
        "import matplotlib.pyplot as plt\n",
        "from sklearn.cluster import KMeans"
      ],
      "metadata": {
        "id": "mHILJq9V9Uo8"
      },
      "execution_count": null,
      "outputs": []
    },
    {
      "cell_type": "markdown",
      "source": [
        "##■ 데이터 불러오기"
      ],
      "metadata": {
        "id": "pJ3FfYKs8_51"
      }
    },
    {
      "cell_type": "code",
      "execution_count": null,
      "metadata": {
        "colab": {
          "base_uri": "https://localhost:8080/"
        },
        "id": "o7Thrxuihka8",
        "outputId": "79da8d60-8787-446c-dfc1-86ca2735ae1c"
      },
      "outputs": [
        {
          "output_type": "stream",
          "name": "stdout",
          "text": [
            "     sepal length (cm)  sepal width (cm)  petal length (cm)  petal width (cm)  \\\n",
            "0                  5.1               3.5                1.4               0.2   \n",
            "1                  4.9               3.0                1.4               0.2   \n",
            "2                  4.7               3.2                1.3               0.2   \n",
            "3                  4.6               3.1                1.5               0.2   \n",
            "4                  5.0               3.6                1.4               0.2   \n",
            "..                 ...               ...                ...               ...   \n",
            "145                6.7               3.0                5.2               2.3   \n",
            "146                6.3               2.5                5.0               1.9   \n",
            "147                6.5               3.0                5.2               2.0   \n",
            "148                6.2               3.4                5.4               2.3   \n",
            "149                5.9               3.0                5.1               1.8   \n",
            "\n",
            "         label  \n",
            "0       setosa  \n",
            "1       setosa  \n",
            "2       setosa  \n",
            "3       setosa  \n",
            "4       setosa  \n",
            "..         ...  \n",
            "145  virginica  \n",
            "146  virginica  \n",
            "147  virginica  \n",
            "148  virginica  \n",
            "149  virginica  \n",
            "\n",
            "[150 rows x 5 columns]\n"
          ]
        }
      ],
      "source": [
        "# 파일경로 설정\n",
        "file_path = '/content/drive/MyDrive/KDT/03. 정형데이터분석시각화/02. Data파일/iris_dataset.csv'\n",
        "# pd.read_csv() 사용\n",
        "df_iris = pd.read_csv(file_path)\n",
        "# 결과확인\n",
        "print(df_iris)"
      ]
    },
    {
      "cell_type": "code",
      "source": [
        "# 데이터분포 시각화\n",
        "sns.scatterplot(data=df_iris,x='petal length (cm)',y='petal width (cm)',hue='label')\n",
        "plt.show()"
      ],
      "metadata": {
        "colab": {
          "base_uri": "https://localhost:8080/",
          "height": 449
        },
        "id": "V0a1udD3-Iaz",
        "outputId": "02dce2cc-271c-4543-ef40-e2a4222a34be"
      },
      "execution_count": null,
      "outputs": [
        {
          "output_type": "display_data",
          "data": {
            "text/plain": [
              "<Figure size 640x480 with 1 Axes>"
            ],
            "image/png": "[encoded data removed]"
          },
          "metadata": {}
        }
      ]
    },
    {
      "cell_type": "code",
      "source": [
        "# 붓꽃 품종의 label을 숫자로 대체 --> label encoding 실행\n",
        "\n",
        "# replace() 사용\n",
        "# np.unique(df_iris.label)\n",
        "df_iris_label = df_iris.replace({'setosa':0, 'versicolor':1, 'virginica':2})\n",
        "\n",
        "# pd.get_dummies() 사용\n",
        "df_iris_onehot = pd.get_dummies(data=df_iris,columns=['label'])\n",
        "\n",
        "# 결과 확인하기\n",
        "print(df_iris_label)\n",
        "print(df_iris_onehot)"
      ],
      "metadata": {
        "colab": {
          "base_uri": "https://localhost:8080/"
        },
        "id": "Im9_6KWK_Z5V",
        "outputId": "3b3b6fb3-aae5-4c48-a20e-b8703f35bfbe"
      },
      "execution_count": null,
      "outputs": [
        {
          "output_type": "stream",
          "name": "stdout",
          "text": [
            "     sepal length (cm)  sepal width (cm)  petal length (cm)  petal width (cm)  \\\n",
            "0                  5.1               3.5                1.4               0.2   \n",
            "1                  4.9               3.0                1.4               0.2   \n",
            "2                  4.7               3.2                1.3               0.2   \n",
            "3                  4.6               3.1                1.5               0.2   \n",
            "4                  5.0               3.6                1.4               0.2   \n",
            "..                 ...               ...                ...               ...   \n",
            "145                6.7               3.0                5.2               2.3   \n",
            "146                6.3               2.5                5.0               1.9   \n",
            "147                6.5               3.0                5.2               2.0   \n",
            "148                6.2               3.4                5.4               2.3   \n",
            "149                5.9               3.0                5.1               1.8   \n",
            "\n",
            "     label  \n",
            "0        0  \n",
            "1        0  \n",
            "2        0  \n",
            "3        0  \n",
            "4        0  \n",
            "..     ...  \n",
            "145      2  \n",
            "146      2  \n",
            "147      2  \n",
            "148      2  \n",
            "149      2  \n",
            "\n",
            "[150 rows x 5 columns]\n",
            "     sepal length (cm)  sepal width (cm)  petal length (cm)  petal width (cm)  \\\n",
            "0                  5.1               3.5                1.4               0.2   \n",
            "1                  4.9               3.0                1.4               0.2   \n",
            "2                  4.7               3.2                1.3               0.2   \n",
            "3                  4.6               3.1                1.5               0.2   \n",
            "4                  5.0               3.6                1.4               0.2   \n",
            "..                 ...               ...                ...               ...   \n",
            "145                6.7               3.0                5.2               2.3   \n",
            "146                6.3               2.5                5.0               1.9   \n",
            "147                6.5               3.0                5.2               2.0   \n",
            "148                6.2               3.4                5.4               2.3   \n",
            "149                5.9               3.0                5.1               1.8   \n",
            "\n",
            "     label_setosa  label_versicolor  label_virginica  \n",
            "0               1                 0                0  \n",
            "1               1                 0                0  \n",
            "2               1                 0                0  \n",
            "3               1                 0                0  \n",
            "4               1                 0                0  \n",
            "..            ...               ...              ...  \n",
            "145             0                 0                1  \n",
            "146             0                 0                1  \n",
            "147             0                 0                1  \n",
            "148             0                 0                1  \n",
            "149             0                 0                1  \n",
            "\n",
            "[150 rows x 7 columns]\n"
          ]
        }
      ]
    },
    {
      "cell_type": "markdown",
      "source": [
        "##■ K-means 적용하기"
      ],
      "metadata": {
        "id": "LzFuE4O2DhjP"
      }
    },
    {
      "cell_type": "code",
      "source": [
        "# 필요한 라이브러리 임포트\n",
        "# from sklearn.cluster import KMeans\n",
        "\n",
        "# X_data 생성\n",
        "# X_data = df_iris_label.drop(columns=['sepal length (cm)','sepal width (cm)','label']) # <== 이렇게 조건을 변경하면 또 다른 결과가 나온다.\n",
        "X_data = df_iris_label.drop(columns=['label'])\n",
        "\n",
        "# 결과 확인\n",
        "print(X_data)"
      ],
      "metadata": {
        "colab": {
          "base_uri": "https://localhost:8080/"
        },
        "id": "DKdTd227DnO1",
        "outputId": "3ed3835a-d011-42e5-bd73-9ed508ea69ed"
      },
      "execution_count": null,
      "outputs": [
        {
          "output_type": "stream",
          "name": "stdout",
          "text": [
            "     sepal length (cm)  sepal width (cm)  petal length (cm)  petal width (cm)\n",
            "0                  5.1               3.5                1.4               0.2\n",
            "1                  4.9               3.0                1.4               0.2\n",
            "2                  4.7               3.2                1.3               0.2\n",
            "3                  4.6               3.1                1.5               0.2\n",
            "4                  5.0               3.6                1.4               0.2\n",
            "..                 ...               ...                ...               ...\n",
            "145                6.7               3.0                5.2               2.3\n",
            "146                6.3               2.5                5.0               1.9\n",
            "147                6.5               3.0                5.2               2.0\n",
            "148                6.2               3.4                5.4               2.3\n",
            "149                5.9               3.0                5.1               1.8\n",
            "\n",
            "[150 rows x 4 columns]\n"
          ]
        }
      ]
    },
    {
      "cell_type": "markdown",
      "source": [
        "###→ 최적의 클러스터 개수 설정"
      ],
      "metadata": {
        "id": "Ad6mybauFBC6"
      }
    },
    {
      "cell_type": "code",
      "source": [
        "# elbow mothod 적용\n",
        "\n",
        "# 필요한 라이브러리 임포트\n",
        "# import numpy as np\n",
        "\n",
        "# FutureWarning 메시지 제거\n",
        "import warnings\n",
        "warnings.simplefilter(action='ignore', category=FutureWarning)\n",
        "\n",
        "# SSE(평균제곱오차) 측정 --> inertia_\n",
        "sse = []\n",
        "for i in np.arange(1,11):\n",
        "    # KMeans 모델생성\n",
        "    model = KMeans(n_clusters=i,random_state=0)\n",
        "    # 모델학습\n",
        "    model.fit(X_data)\n",
        "    sse.append(model.inertia_)\n",
        "\n",
        "# 결과 확인\n",
        "# print(f'sse :\\n{sse}')\n",
        "\n",
        "# 결과 시각화\n",
        "plt.plot(np.arange(1,11),sse,marker='o')\n",
        "plt.xlabel('number of cluster')\n",
        "plt.ylabel('SSE')\n",
        "plt.show()\n",
        "\n",
        "'''\n",
        "최적의 클러스터를 3으로 하겠다.\n",
        "'''"
      ],
      "metadata": {
        "colab": {
          "base_uri": "https://localhost:8080/",
          "height": 467
        },
        "id": "4ZzsONVUE-aD",
        "outputId": "a869864b-126e-4677-fb11-3d04a69c7d70"
      },
      "execution_count": null,
      "outputs": [
        {
          "output_type": "display_data",
          "data": {
            "text/plain": [
              "<Figure size 640x480 with 1 Axes>"
            ],
            "image/png": "[encoded data removed]"
          },
          "metadata": {}
        },
        {
          "output_type": "execute_result",
          "data": {
            "text/plain": [
              "'\\n최적의 클러스터를 3으로 하겠다.\\n'"
            ],
            "application/vnd.google.colaboratory.intrinsic+json": {
              "type": "string"
            }
          },
          "metadata": {},
          "execution_count": 7
        }
      ]
    },
    {
      "cell_type": "markdown",
      "source": [
        "###→ 3개의 군집으로 군집화"
      ],
      "metadata": {
        "id": "lGqZoIq3Ko5l"
      }
    },
    {
      "cell_type": "code",
      "source": [
        "# 모델 생성\n",
        "model = KMeans(n_clusters=3,random_state=0)\n",
        "\n",
        "# 모델학습 : 군집화하는것.\n",
        "model.fit(X_data)\n",
        "\n",
        "# 학습결과 확인\n",
        "print(model.labels_)"
      ],
      "metadata": {
        "colab": {
          "base_uri": "https://localhost:8080/"
        },
        "id": "lEC-5JQBICbd",
        "outputId": "7e17e372-8c78-476a-b223-6b336ebf8b6d"
      },
      "execution_count": null,
      "outputs": [
        {
          "output_type": "stream",
          "name": "stdout",
          "text": [
            "[1 1 1 1 1 1 1 1 1 1 1 1 1 1 1 1 1 1 1 1 1 1 1 1 1 1 1 1 1 1 1 1 1 1 1 1 1\n",
            " 1 1 1 1 1 1 1 1 1 1 1 1 1 0 0 2 0 0 0 0 0 0 0 0 0 0 0 0 0 0 0 0 0 0 0 0 0\n",
            " 0 0 0 2 0 0 0 0 0 0 0 0 0 0 0 0 0 0 0 0 0 0 0 0 0 0 2 0 2 2 2 2 0 2 2 2 2\n",
            " 2 2 0 0 2 2 2 2 0 2 0 2 0 2 2 0 0 2 2 2 2 2 0 2 2 2 2 0 2 2 2 0 2 2 2 0 2\n",
            " 2 0]\n"
          ]
        }
      ]
    },
    {
      "cell_type": "code",
      "source": [
        "# predict : 데이터를 주면 어느 클러스터에 분류되었는지 보여주는 것.\n",
        "# 3개의 군집으로 군집화한 결과 --> predict()\n",
        "'''\n",
        "predict하지 않아도 fit(학습)후에 model.labels_ 속성값의 확인으로 가능\n",
        "'''\n",
        "label = model.predict(X_data)\n",
        "\n",
        "# 결과 확인\n",
        "print(f'군집화한 결과 :\\n{label}')"
      ],
      "metadata": {
        "colab": {
          "base_uri": "https://localhost:8080/"
        },
        "id": "_XO0wDxiK7JO",
        "outputId": "0aee1281-79a8-49bc-f761-0d69f6f7ebea"
      },
      "execution_count": null,
      "outputs": [
        {
          "output_type": "stream",
          "name": "stdout",
          "text": [
            "군집화한 결과 :\n",
            "[1 1 1 1 1 1 1 1 1 1 1 1 1 1 1 1 1 1 1 1 1 1 1 1 1 1 1 1 1 1 1 1 1 1 1 1 1\n",
            " 1 1 1 1 1 1 1 1 1 1 1 1 1 0 0 2 0 0 0 0 0 0 0 0 0 0 0 0 0 0 0 0 0 0 0 0 0\n",
            " 0 0 0 2 0 0 0 0 0 0 0 0 0 0 0 0 0 0 0 0 0 0 0 0 0 0 2 0 2 2 2 2 0 2 2 2 2\n",
            " 2 2 0 0 2 2 2 2 0 2 0 2 0 2 2 0 0 2 2 2 2 2 0 2 2 2 2 0 2 2 2 0 2 2 2 0 2\n",
            " 2 0]\n"
          ]
        }
      ]
    },
    {
      "cell_type": "code",
      "source": [
        "# 모델이 예측한 label과 실제 label 비교\n",
        "'''\n",
        "### label의 변화\n",
        "1) 기존 label 0 --> 1\n",
        "2) 기존 label 1 --> 0\n",
        "3) 기존 label 2 --> 2\n",
        "'''\n",
        "# df_iris_label2 = df_iris_label.drop(columns=['label_predict','result'])\n",
        "# print(df_iris_label2)\n",
        "\n",
        "# np.unique()\n",
        "\n",
        "# index 0~49 --> setosa\n",
        "label1 = label[0:50]\n",
        "print(label1)\n",
        "print(f'index 0~49 = {np.unique(ar=label1,return_counts=True)}\\n')\n",
        "\n",
        "# index 50~99 --> versicolor\n",
        "label2 = label[50:100]\n",
        "print(label2)\n",
        "print(f'index 50~99 = {np.unique(ar=label2,return_counts=True)}\\n')\n",
        "\n",
        "# index 100~149 --> virginica\n",
        "label3 = label[100:]\n",
        "print(label3)\n",
        "print(f'index 100~149 = {np.unique(ar=label3,return_counts=True)}\\n')\n"
      ],
      "metadata": {
        "colab": {
          "base_uri": "https://localhost:8080/"
        },
        "id": "pFxbsUvsw3in",
        "outputId": "acf35f8c-6fd9-48ad-8c5c-9c591f08fbac"
      },
      "execution_count": null,
      "outputs": [
        {
          "output_type": "stream",
          "name": "stdout",
          "text": [
            "[1 1 1 1 1 1 1 1 1 1 1 1 1 1 1 1 1 1 1 1 1 1 1 1 1 1 1 1 1 1 1 1 1 1 1 1 1\n",
            " 1 1 1 1 1 1 1 1 1 1 1 1 1]\n",
            "index 0~49 = (array([1], dtype=int32), array([50]))\n",
            "\n",
            "[0 0 2 0 0 0 0 0 0 0 0 0 0 0 0 0 0 0 0 0 0 0 0 0 0 0 0 2 0 0 0 0 0 0 0 0 0\n",
            " 0 0 0 0 0 0 0 0 0 0 0 0 0]\n",
            "index 50~99 = (array([0, 2], dtype=int32), array([48,  2]))\n",
            "\n",
            "[2 0 2 2 2 2 0 2 2 2 2 2 2 0 0 2 2 2 2 0 2 0 2 0 2 2 0 0 2 2 2 2 2 0 2 2 2\n",
            " 2 0 2 2 2 0 2 2 2 0 2 2 0]\n",
            "index 100~149 = (array([0, 2], dtype=int32), array([14, 36]))\n",
            "\n"
          ]
        }
      ]
    },
    {
      "cell_type": "code",
      "source": [
        "# 모델이 예측한 label과 실제 label 비교 : 예습한거\n",
        "'''\n",
        "### label의 변화\n",
        "1) 기존 label 0 --> 1\n",
        "2) 기존 label 1 --> 0\n",
        "3) 기존 label 2 --> 2\n",
        "'''\n",
        "# 군집화 결과를 'label_predict' 컬럼에 저장\n",
        "df_iris_label.loc[:,'label_predict'] = pd.Series(model.labels_)\n",
        "\n",
        "# label_predict 컬럼의 값을 label 컬럼에 맞게 변경\n",
        "df_iris_label.replace({'label_predict':{1:0,0:1}},inplace=True)\n",
        "\n",
        "# label_predict 컬럼의 값을 label 컬럼을 비교연산하여 결과를 result 컬럼에 저장\n",
        "df_iris_label.loc[:,'result'] = (df_iris_label.loc[:,'label'] == df_iris_label.loc[:,'label_predict'])\n",
        "\n",
        "# 최종 정확도 확인\n",
        "print(df_iris_label.result.value_counts(normalize=True))"
      ],
      "metadata": {
        "colab": {
          "base_uri": "https://localhost:8080/"
        },
        "id": "ftbkQr7HMJSU",
        "outputId": "57f78368-b083-41c2-e202-f967e5f5624b"
      },
      "execution_count": null,
      "outputs": [
        {
          "output_type": "stream",
          "name": "stdout",
          "text": [
            "True     0.893333\n",
            "False    0.106667\n",
            "Name: result, dtype: float64\n"
          ]
        }
      ]
    },
    {
      "cell_type": "code",
      "source": [
        "print(df_iris_label)"
      ],
      "metadata": {
        "colab": {
          "base_uri": "https://localhost:8080/"
        },
        "id": "Ws9DJZMGYLTl",
        "outputId": "77f86a6f-5944-47b6-fd51-1504fbffbccb"
      },
      "execution_count": null,
      "outputs": [
        {
          "output_type": "stream",
          "name": "stdout",
          "text": [
            "     sepal length (cm)  sepal width (cm)  petal length (cm)  petal width (cm)  \\\n",
            "0                  5.1               3.5                1.4               0.2   \n",
            "1                  4.9               3.0                1.4               0.2   \n",
            "2                  4.7               3.2                1.3               0.2   \n",
            "3                  4.6               3.1                1.5               0.2   \n",
            "4                  5.0               3.6                1.4               0.2   \n",
            "..                 ...               ...                ...               ...   \n",
            "145                6.7               3.0                5.2               2.3   \n",
            "146                6.3               2.5                5.0               1.9   \n",
            "147                6.5               3.0                5.2               2.0   \n",
            "148                6.2               3.4                5.4               2.3   \n",
            "149                5.9               3.0                5.1               1.8   \n",
            "\n",
            "     label  label_predict  result  \n",
            "0        0              0    True  \n",
            "1        0              0    True  \n",
            "2        0              0    True  \n",
            "3        0              0    True  \n",
            "4        0              0    True  \n",
            "..     ...            ...     ...  \n",
            "145      2              2    True  \n",
            "146      2              1   False  \n",
            "147      2              2    True  \n",
            "148      2              2    True  \n",
            "149      2              1   False  \n",
            "\n",
            "[150 rows x 7 columns]\n"
          ]
        }
      ]
    },
    {
      "cell_type": "markdown",
      "source": [
        "##■ GMM(Gaussian Mixture Model) 적용하기"
      ],
      "metadata": {
        "id": "W7ZrxLzA8R4a"
      }
    },
    {
      "cell_type": "code",
      "source": [
        "# 필요한 라이브러리 임포트\n",
        "from sklearn.mixture import GaussianMixture\n",
        "\n",
        "# X_data 생성\n",
        "# X_data = df_iris_label.drop(columns=['sepal length (cm)','sepal width (cm)','label']) # <== 이렇게 조건을 변경하면 또 다른 결과가 나온다.\n",
        "X_data = df_iris_label.drop(columns=['label','label_predict','result'])\n",
        "\n",
        "# 결과 확인\n",
        "print(X_data)"
      ],
      "metadata": {
        "colab": {
          "base_uri": "https://localhost:8080/"
        },
        "id": "ndRxFzcw_vPo",
        "outputId": "afabd8b1-e6da-4054-a553-3e94e0bdade8"
      },
      "execution_count": null,
      "outputs": [
        {
          "output_type": "stream",
          "name": "stdout",
          "text": [
            "     petal length (cm)  petal width (cm)\n",
            "0                  1.4               0.2\n",
            "1                  1.4               0.2\n",
            "2                  1.3               0.2\n",
            "3                  1.5               0.2\n",
            "4                  1.4               0.2\n",
            "..                 ...               ...\n",
            "145                5.2               2.3\n",
            "146                5.0               1.9\n",
            "147                5.2               2.0\n",
            "148                5.4               2.3\n",
            "149                5.1               1.8\n",
            "\n",
            "[150 rows x 2 columns]\n"
          ]
        }
      ]
    },
    {
      "cell_type": "code",
      "source": [
        "'''\n",
        "# 평가지표가 없어서 GridSearchCV를 사용할 수 없다.\n",
        "'''\n",
        "# 모델 호출\n",
        "gmm = GaussianMixture(n_components=3,random_state=0)\n",
        "\n",
        "# 모델 학습\n",
        "gmm.fit(X_data)"
      ],
      "metadata": {
        "colab": {
          "base_uri": "https://localhost:8080/",
          "height": 75
        },
        "id": "SUKMbp4zA5dG",
        "outputId": "38c8dc89-0686-4912-e2f8-630bf3499411"
      },
      "execution_count": null,
      "outputs": [
        {
          "output_type": "execute_result",
          "data": {
            "text/plain": [
              "GaussianMixture(n_components=3, random_state=0)"
            ],
            "text/html": [
              "<style>#sk-container-id-2 {color: black;background-color: white;}#sk-container-id-2 pre{padding: 0;}#sk-container-id-2 div.sk-toggleable {background-color: white;}#sk-container-id-2 label.sk-toggleable__label {cursor: pointer;display: block;width: 100%;margin-bottom: 0;padding: 0.3em;box-sizing: border-box;text-align: center;}#sk-container-id-2 label.sk-toggleable__label-arrow:before {content: \"▸\";float: left;margin-right: 0.25em;color: #696969;}#sk-container-id-2 label.sk-toggleable__label-arrow:hover:before {color: black;}#sk-container-id-2 div.sk-estimator:hover label.sk-toggleable__label-arrow:before {color: black;}#sk-container-id-2 div.sk-toggleable__content {max-height: 0;max-width: 0;overflow: hidden;text-align: left;background-color: #f0f8ff;}#sk-container-id-2 div.sk-toggleable__content pre {margin: 0.2em;color: black;border-radius: 0.25em;background-color: #f0f8ff;}#sk-container-id-2 input.sk-toggleable__control:checked~div.sk-toggleable__content {max-height: 200px;max-width: 100%;overflow: auto;}#sk-container-id-2 input.sk-toggleable__control:checked~label.sk-toggleable__label-arrow:before {content: \"▾\";}#sk-container-id-2 div.sk-estimator input.sk-toggleable__control:checked~label.sk-toggleable__label {background-color: #d4ebff;}#sk-container-id-2 div.sk-label input.sk-toggleable__control:checked~label.sk-toggleable__label {background-color: #d4ebff;}#sk-container-id-2 input.sk-hidden--visually {border: 0;clip: rect(1px 1px 1px 1px);clip: rect(1px, 1px, 1px, 1px);height: 1px;margin: -1px;overflow: hidden;padding: 0;position: absolute;width: 1px;}#sk-container-id-2 div.sk-estimator {font-family: monospace;background-color: #f0f8ff;border: 1px dotted black;border-radius: 0.25em;box-sizing: border-box;margin-bottom: 0.5em;}#sk-container-id-2 div.sk-estimator:hover {background-color: #d4ebff;}#sk-container-id-2 div.sk-parallel-item::after {content: \"\";width: 100%;border-bottom: 1px solid gray;flex-grow: 1;}#sk-container-id-2 div.sk-label:hover label.sk-toggleable__label {background-color: #d4ebff;}#sk-container-id-2 div.sk-serial::before {content: \"\";position: absolute;border-left: 1px solid gray;box-sizing: border-box;top: 0;bottom: 0;left: 50%;z-index: 0;}#sk-container-id-2 div.sk-serial {display: flex;flex-direction: column;align-items: center;background-color: white;padding-right: 0.2em;padding-left: 0.2em;position: relative;}#sk-container-id-2 div.sk-item {position: relative;z-index: 1;}#sk-container-id-2 div.sk-parallel {display: flex;align-items: stretch;justify-content: center;background-color: white;position: relative;}#sk-container-id-2 div.sk-item::before, #sk-container-id-2 div.sk-parallel-item::before {content: \"\";position: absolute;border-left: 1px solid gray;box-sizing: border-box;top: 0;bottom: 0;left: 50%;z-index: -1;}#sk-container-id-2 div.sk-parallel-item {display: flex;flex-direction: column;z-index: 1;position: relative;background-color: white;}#sk-container-id-2 div.sk-parallel-item:first-child::after {align-self: flex-end;width: 50%;}#sk-container-id-2 div.sk-parallel-item:last-child::after {align-self: flex-start;width: 50%;}#sk-container-id-2 div.sk-parallel-item:only-child::after {width: 0;}#sk-container-id-2 div.sk-dashed-wrapped {border: 1px dashed gray;margin: 0 0.4em 0.5em 0.4em;box-sizing: border-box;padding-bottom: 0.4em;background-color: white;}#sk-container-id-2 div.sk-label label {font-family: monospace;font-weight: bold;display: inline-block;line-height: 1.2em;}#sk-container-id-2 div.sk-label-container {text-align: center;}#sk-container-id-2 div.sk-container {/* jupyter's `normalize.less` sets `[hidden] { display: none; }` but bootstrap.min.css set `[hidden] { display: none !important; }` so we also need the `!important` here to be able to override the default hidden behavior on the sphinx rendered scikit-learn.org. See: https://github.com/scikit-learn/scikit-learn/issues/21755 */display: inline-block !important;position: relative;}#sk-container-id-2 div.sk-text-repr-fallback {display: none;}</style><div id=\"sk-container-id-2\" class=\"sk-top-container\"><div class=\"sk-text-repr-fallback\"><pre>GaussianMixture(n_components=3, random_state=0)</pre><b>In a Jupyter environment, please rerun this cell to show the HTML representation or trust the notebook. <br />On GitHub, the HTML representation is unable to render, please try loading this page with nbviewer.org.</b></div><div class=\"sk-container\" hidden><div class=\"sk-item\"><div class=\"sk-estimator sk-toggleable\"><input class=\"sk-toggleable__control sk-hidden--visually\" id=\"sk-estimator-id-2\" type=\"checkbox\" checked><label for=\"sk-estimator-id-2\" class=\"sk-toggleable__label sk-toggleable__label-arrow\">GaussianMixture</label><div class=\"sk-toggleable__content\"><pre>GaussianMixture(n_components=3, random_state=0)</pre></div></div></div></div></div>"
            ]
          },
          "metadata": {},
          "execution_count": 41
        }
      ]
    },
    {
      "cell_type": "code",
      "source": [
        "# 학습결과 --> 3개의 군집으로 군집화 결과 확인\n",
        "cluster = gmm.predict(X_data)\n",
        "\n",
        "print(f'군집화한 결과 :\\n{cluster}\\n')"
      ],
      "metadata": {
        "colab": {
          "base_uri": "https://localhost:8080/"
        },
        "id": "PcG-IV_BBUTM",
        "outputId": "54d023e4-f4b5-4f95-9d64-8c2cbf430060"
      },
      "execution_count": null,
      "outputs": [
        {
          "output_type": "stream",
          "name": "stdout",
          "text": [
            "군집화한 결과 :\n",
            "[0 0 0 0 0 0 0 0 0 0 0 0 0 0 0 0 0 0 0 0 0 0 0 0 0 0 0 0 0 0 0 0 0 0 0 0 0\n",
            " 0 0 0 0 0 0 0 0 0 0 0 0 0 2 2 2 2 2 2 2 2 2 2 2 2 2 2 2 2 2 2 2 2 1 2 2 2\n",
            " 2 2 2 2 2 2 2 2 2 2 2 2 2 2 2 2 2 2 2 2 2 2 2 2 2 2 1 1 1 1 1 1 2 1 1 1 1\n",
            " 1 1 1 1 1 1 1 1 2 1 1 1 1 1 1 1 1 1 1 1 1 1 2 1 1 1 1 1 1 1 1 1 1 1 1 1 1\n",
            " 1 1]\n",
            "\n"
          ]
        }
      ]
    },
    {
      "cell_type": "code",
      "source": [
        "# 모델이 예측한 label과 실제 label 비교\n",
        "\n",
        "# df_iris_label2 = df_iris_label.drop(columns=['label_predict','result'])\n",
        "# print(df_iris_label2)\n",
        "\n",
        "# np.unique()\n",
        "\n",
        "# index 0~49 --> setosa\n",
        "label1 = cluster[0:50]\n",
        "print(label1)\n",
        "print(f'index 0~49 = {np.unique(ar=label1,return_counts=True)}\\n')\n",
        "\n",
        "# index 50~99 --> versicolor\n",
        "label2 = cluster[50:100]\n",
        "print(label2)\n",
        "print(f'index 50~99 = {np.unique(ar=label2,return_counts=True)}\\n')\n",
        "\n",
        "# index 100~149 --> virginica\n",
        "label3 = cluster[100:]\n",
        "print(label3)\n",
        "print(f'index 100~149 = {np.unique(ar=label3,return_counts=True)}\\n')"
      ],
      "metadata": {
        "colab": {
          "base_uri": "https://localhost:8080/"
        },
        "id": "asletJ_oCo87",
        "outputId": "fe8b4b5f-b2ca-4d86-9fb4-f7ce8bd1a6d9"
      },
      "execution_count": null,
      "outputs": [
        {
          "output_type": "stream",
          "name": "stdout",
          "text": [
            "[0 0 0 0 0 0 0 0 0 0 0 0 0 0 0 0 0 0 0 0 0 0 0 0 0 0 0 0 0 0 0 0 0 0 0 0 0\n",
            " 0 0 0 0 0 0 0 0 0 0 0 0 0]\n",
            "index 0~49 = (array([0]), array([50]))\n",
            "\n",
            "[2 2 2 2 2 2 2 2 2 2 2 2 2 2 2 2 2 2 2 2 1 2 2 2 2 2 2 2 2 2 2 2 2 2 2 2 2\n",
            " 2 2 2 2 2 2 2 2 2 2 2 2 2]\n",
            "index 50~99 = (array([1, 2]), array([ 1, 49]))\n",
            "\n",
            "[1 1 1 1 1 1 2 1 1 1 1 1 1 1 1 1 1 1 1 2 1 1 1 1 1 1 1 1 1 1 1 1 1 2 1 1 1\n",
            " 1 1 1 1 1 1 1 1 1 1 1 1 1]\n",
            "index 100~149 = (array([1, 2]), array([47,  3]))\n",
            "\n"
          ]
        }
      ]
    }
  ]
}